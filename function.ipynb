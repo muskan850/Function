{
  "nbformat": 4,
  "nbformat_minor": 0,
  "metadata": {
    "colab": {
      "provenance": []
    },
    "kernelspec": {
      "name": "python3",
      "display_name": "Python 3"
    },
    "language_info": {
      "name": "python"
    }
  },
  "cells": [
    {
      "cell_type": "markdown",
      "source": [
        "#FUNCTION PRACTICAL ANSWERS"
      ],
      "metadata": {
        "id": "kyUF36kRFJ4J"
      }
    },
    {
      "cell_type": "code",
      "source": [
        "#1. Sum of all even numbers in a list\n",
        "def sum_even_numbers(lst):\n",
        "    return sum(num for num in lst if num % 2 == 0)\n"
      ],
      "metadata": {
        "id": "sYTPyMZPFQgW"
      },
      "execution_count": 2,
      "outputs": []
    },
    {
      "cell_type": "code",
      "source": [
        "#Reverse a string\n",
        "def reverse_string(s):\n",
        "    return s[::-1]\n"
      ],
      "metadata": {
        "id": "H901O6RaFhMx"
      },
      "execution_count": 3,
      "outputs": []
    },
    {
      "cell_type": "code",
      "source": [
        "#3. Return squares of each number in a list\n",
        "def square_list(lst):\n",
        "    return [x**2 for x in lst]\n"
      ],
      "metadata": {
        "id": "arEP7gujFsfo"
      },
      "execution_count": 4,
      "outputs": []
    },
    {
      "cell_type": "code",
      "source": [
        "#4. Check if a number is prime (1 to 200)\n",
        "def is_prime(n):\n",
        "    if n < 2:\n",
        "        return False\n",
        "    for i in range(2, int(n**0.5) + 1):\n",
        "        if n % i == 0:\n",
        "            return False\n",
        "    return True\n"
      ],
      "metadata": {
        "id": "ol2cdAzVF0d-"
      },
      "execution_count": 5,
      "outputs": []
    },
    {
      "cell_type": "code",
      "source": [
        "#5. Iterator class for Fibonacci sequence\n",
        "class FibonacciIterator:\n",
        "    def __init__(self, limit):\n",
        "        self.a, self.b = 0, 1\n",
        "        self.limit = limit\n",
        "        self.count = 0\n",
        "\n",
        "    def __iter__(self):\n",
        "        return self\n",
        "\n",
        "    def __next__(self):\n",
        "        if self.count >= self.limit:\n",
        "            raise StopIteration\n",
        "        self.count += 1\n",
        "        result = self.a\n",
        "        self.a, self.b = self.b, self.a + self.b\n",
        "        return result\n"
      ],
      "metadata": {
        "id": "zgWZbHBUGN8q"
      },
      "execution_count": 6,
      "outputs": []
    },
    {
      "cell_type": "code",
      "source": [
        "#6. Generator for powers of 2 up to a given exponent\n",
        "def powers_of_two(n):\n",
        "    for i in range(n + 1):\n",
        "        yield 2 ** i"
      ],
      "metadata": {
        "id": "0KJ7hRqwFJiS"
      },
      "execution_count": 9,
      "outputs": []
    },
    {
      "cell_type": "code",
      "source": [
        "#7. Generator that reads a file line by line\n",
        "def read_file_lines(filename):\n",
        "    with open(filename, 'r') as f:\n",
        "        for line in f:\n",
        "            yield line.strip()\n"
      ],
      "metadata": {
        "id": "vs1Vx6TWGpTW"
      },
      "execution_count": 11,
      "outputs": []
    },
    {
      "cell_type": "code",
      "source": [
        "#8. Lambda to sort list of tuples by second element\n",
        "data = [(1, 3), (2, 1), (4, 2)]\n",
        "sorted_data = sorted(data, key=lambda x: x[1])\n",
        "print(sorted_data)\n"
      ],
      "metadata": {
        "colab": {
          "base_uri": "https://localhost:8080/"
        },
        "id": "kLeGPef3Mkni",
        "outputId": "f32ca79f-6717-47d3-cc35-68285724705d"
      },
      "execution_count": 12,
      "outputs": [
        {
          "output_type": "stream",
          "name": "stdout",
          "text": [
            "[(2, 1), (4, 2), (1, 3)]\n"
          ]
        }
      ]
    },
    {
      "cell_type": "code",
      "source": [
        "#9. Use map() to convert Celsius to Fahrenheit\n",
        "def c_to_f(celsius_list):\n",
        "    return list(map(lambda c: (c * 9/5) + 32, celsius_list))\n"
      ],
      "metadata": {
        "id": "WDfsXSJ_MrIV"
      },
      "execution_count": 14,
      "outputs": []
    },
    {
      "cell_type": "code",
      "source": [
        "#10. Use filter() to remove vowels from string\n",
        "def remove_vowels(s):\n",
        "    vowels = 'aeiouAEIOU'\n",
        "    return ''.join(filter(lambda ch: ch not in vowels, s))"
      ],
      "metadata": {
        "id": "q7pPWYr8M6ko"
      },
      "execution_count": 15,
      "outputs": []
    },
    {
      "cell_type": "code",
      "source": [
        "\"\"\"Question 11:\n",
        "Imagine an accounting routine used in a book shop. It works on a list with sublists, which look like this:\n",
        "\n",
        "Order Number   Book Title and Author             Quantity   Price per Item\n",
        "34587          Learning Python, Mark Lutz        4          40.95\n",
        "98762          Programming Python, Mark Lutz     5          56.80\n",
        "77226          Head First Python, Paul Barry     3          32.95\n",
        "88112          Einführung in Python3, Bernd Klein 3          24.99\n",
        "Write a Python program which returns a list with 2-tuples. Each tuple consists of the order number and the product of the price per item and the quantity. The product should be increased by 10,- € if the value of the order is smaller than 100,00 €.\n",
        "\n",
        "Write the Python program using lambda and map().\"\"\"\n",
        "\n",
        "# List of book orders: [Order Number, Book Title, Quantity, Price per Item]\n",
        "orders = [\n",
        "    [34587, \"Learning Python, Mark Lutz\", 4, 40.95],\n",
        "    [98762, \"Programming Python, Mark Lutz\", 5, 56.80],\n",
        "    [77226, \"Head First Python, Paul Barry\", 3, 32.95],\n",
        "    [88112, \"Einführung in Python3, Bernd Klein\", 3, 24.99]\n",
        "]\n",
        "\n",
        "# Using lambda and map to calculate total price with condition\n",
        "result = list(map(\n",
        "    lambda order: (\n",
        "        order[0],\n",
        "        order[2] * order[3] if order[2] * order[3] >= 100 else order[2] * order[3] + 10\n",
        "    ),\n",
        "    orders\n",
        "))\n"
      ],
      "metadata": {
        "id": "DncpMoVCNDK4"
      },
      "execution_count": 16,
      "outputs": []
    }
  ]
}